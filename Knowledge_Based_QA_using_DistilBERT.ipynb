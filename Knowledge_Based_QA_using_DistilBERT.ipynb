{
  "cells": [
    {
      "cell_type": "markdown",
      "metadata": {
        "id": "view-in-github",
        "colab_type": "text"
      },
      "source": [
        "<a href=\"https://colab.research.google.com/github/Siddharth-R512/Knowledge-Based-QA-using-DistilBERT/blob/main/Knowledge_Based_QA_using_DistilBERT.ipynb\" target=\"_parent\"><img src=\"https://colab.research.google.com/assets/colab-badge.svg\" alt=\"Open In Colab\"/></a>"
      ]
    },
    {
      "cell_type": "code",
      "execution_count": null,
      "metadata": {
        "colab": {
          "background_save": true,
          "base_uri": "https://localhost:8080/"
        },
        "id": "pZnrSQWVGn-Y",
        "outputId": "dd8171f1-f3e1-4631-94b9-09e16c4e946f"
      },
      "outputs": [
        {
          "name": "stderr",
          "output_type": "stream",
          "text": [
            "[nltk_data] Downloading package punkt to /root/nltk_data...\n",
            "[nltk_data]   Package punkt is already up-to-date!\n",
            "[nltk_data] Downloading package stopwords to /root/nltk_data...\n",
            "[nltk_data]   Package stopwords is already up-to-date!\n"
          ]
        },
        {
          "name": "stdout",
          "output_type": "stream",
          "text": [
            "Answer: paris\n",
            "Answer: william shakespeare\n",
            "Answer: h2o\n",
            "Answer: china\n"
          ]
        }
      ],
      "source": [
        "import torch\n",
        "from transformers import DistilBertTokenizer, DistilBertForQuestionAnswering\n",
        "import nltk\n",
        "nltk.download('punkt')\n",
        "nltk.download('stopwords')\n",
        "from nltk.corpus import stopwords\n",
        "from nltk.tokenize import word_tokenize\n",
        "\n",
        "class KnowledgeBasedQASystem:\n",
        "\n",
        "  def __init__(self, model_name='distilbert-base-uncased-distilled-squad'):\n",
        "    self.tokenizer = DistilBertTokenizer.from_pretrained(model_name)\n",
        "    self.model = DistilBertForQuestionAnswering.from_pretrained(model_name)\n",
        "    self.stop_words = set(stopwords.words('english'))\n",
        "  def preprocess_text(self, text):\n",
        "    tokens = word_tokenize(text)\n",
        "    tokens = [word.lower() for word in tokens if word.isalnum() and word.lower() not in self.stop_words]\n",
        "    return ' '.join(tokens)\n",
        "  def answer_question(self, question, context):\n",
        "    preprocessed_question = self.preprocess_text(question)\n",
        "    preprocessed_context = self.preprocess_text(context)\n",
        "    inputs = self.tokenizer(preprocessed_question, preprocessed_context, return_tensors='pt', max_length=512, truncation=True)\n",
        "    outputs = self.model(**inputs)\n",
        "    start_logits = outputs.start_logits\n",
        "    end_logits = outputs.end_logits\n",
        "    start_index = torch.argmax(start_logits)\n",
        "    end_index = torch.argmax(end_logits)\n",
        "    answer_tokens = inputs['input_ids'][0][start_index:end_index+1]\n",
        "    answer = self.tokenizer.decode(answer_tokens)\n",
        "    return answer\n",
        "\n",
        "\n",
        "if __name__ == \"__main__\":\n",
        "  qa_system = KnowledgeBasedQASystem()\n",
        "  while True:\n",
        "    question = input(\"Enter your question: \")\n",
        "    context = input(\"Enter the context: \")\n",
        "    answer = qa_system.answer_question(question, context)\n",
        "    print(\"Answer:\", answer)"
      ]
    }
  ],
  "metadata": {
    "colab": {
      "provenance": [],
      "authorship_tag": "ABX9TyPBcu4hqHS2mDhfrJNYiQWY",
      "include_colab_link": true
    },
    "kernelspec": {
      "display_name": "Python 3",
      "name": "python3"
    },
    "language_info": {
      "name": "python"
    }
  },
  "nbformat": 4,
  "nbformat_minor": 0
}